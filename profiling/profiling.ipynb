{
 "cells": [
  {
   "cell_type": "code",
   "execution_count": 1,
   "metadata": {
    "ExecuteTime": {
     "end_time": "2018-10-16T03:19:48.204493Z",
     "start_time": "2018-10-16T03:19:48.202365Z"
    }
   },
   "outputs": [],
   "source": [
    "from time import sleep\n",
    "import numpy as np"
   ]
  },
  {
   "cell_type": "code",
   "execution_count": 2,
   "metadata": {
    "ExecuteTime": {
     "end_time": "2018-10-16T03:20:19.405884Z",
     "start_time": "2018-10-16T03:19:55.378014Z"
    }
   },
   "outputs": [
    {
     "name": "stdout",
     "output_type": "stream",
     "text": [
      "3 s ± 1.28 ms per loop (mean ± std. dev. of 7 runs, 1 loop each)\n"
     ]
    }
   ],
   "source": [
    "%timeit sleep(3)"
   ]
  },
  {
   "cell_type": "code",
   "execution_count": 3,
   "metadata": {
    "ExecuteTime": {
     "end_time": "2018-10-16T03:20:22.431514Z",
     "start_time": "2018-10-16T03:20:19.421745Z"
    }
   },
   "outputs": [
    {
     "name": "stdout",
     "output_type": "stream",
     "text": [
      " "
     ]
    }
   ],
   "source": [
    "%prun sleep(3)\n",
    "# pagerに表示"
   ]
  },
  {
   "cell_type": "code",
   "execution_count": 5,
   "metadata": {
    "ExecuteTime": {
     "end_time": "2018-10-16T03:21:09.121576Z",
     "start_time": "2018-10-16T03:21:07.729014Z"
    },
    "scrolled": true
   },
   "outputs": [
    {
     "name": "stdout",
     "output_type": "stream",
     "text": [
      "Requirement already satisfied: line_profiler in /Users/01024162/.pyenv/versions/anaconda3-5.1.0/lib/python3.6/site-packages\n",
      "Requirement already satisfied: memory_profiler in /Users/01024162/.pyenv/versions/anaconda3-5.1.0/lib/python3.6/site-packages\n",
      "Requirement already satisfied: IPython>=0.13 in /Users/01024162/.pyenv/versions/anaconda3-5.1.0/lib/python3.6/site-packages (from line_profiler)\n",
      "Requirement already satisfied: psutil in /Users/01024162/.pyenv/versions/anaconda3-5.1.0/lib/python3.6/site-packages (from memory_profiler)\n",
      "Requirement already satisfied: traitlets>=4.2 in /Users/01024162/.pyenv/versions/anaconda3-5.1.0/lib/python3.6/site-packages (from IPython>=0.13->line_profiler)\n",
      "Requirement already satisfied: prompt-toolkit<2.0.0,>=1.0.15 in /Users/01024162/.pyenv/versions/anaconda3-5.1.0/lib/python3.6/site-packages (from IPython>=0.13->line_profiler)\n",
      "Requirement already satisfied: pickleshare in /Users/01024162/.pyenv/versions/anaconda3-5.1.0/lib/python3.6/site-packages (from IPython>=0.13->line_profiler)\n",
      "Requirement already satisfied: backcall in /Users/01024162/.pyenv/versions/anaconda3-5.1.0/lib/python3.6/site-packages (from IPython>=0.13->line_profiler)\n",
      "Requirement already satisfied: simplegeneric>0.8 in /Users/01024162/.pyenv/versions/anaconda3-5.1.0/lib/python3.6/site-packages (from IPython>=0.13->line_profiler)\n",
      "Requirement already satisfied: decorator in /Users/01024162/.pyenv/versions/anaconda3-5.1.0/lib/python3.6/site-packages (from IPython>=0.13->line_profiler)\n",
      "Requirement already satisfied: pexpect; sys_platform != \"win32\" in /Users/01024162/.pyenv/versions/anaconda3-5.1.0/lib/python3.6/site-packages (from IPython>=0.13->line_profiler)\n",
      "Requirement already satisfied: pygments in /Users/01024162/.pyenv/versions/anaconda3-5.1.0/lib/python3.6/site-packages (from IPython>=0.13->line_profiler)\n",
      "Requirement already satisfied: appnope; sys_platform == \"darwin\" in /Users/01024162/.pyenv/versions/anaconda3-5.1.0/lib/python3.6/site-packages (from IPython>=0.13->line_profiler)\n",
      "Requirement already satisfied: jedi>=0.10 in /Users/01024162/.pyenv/versions/anaconda3-5.1.0/lib/python3.6/site-packages (from IPython>=0.13->line_profiler)\n",
      "Requirement already satisfied: setuptools>=18.5 in /Users/01024162/.pyenv/versions/anaconda3-5.1.0/lib/python3.6/site-packages (from IPython>=0.13->line_profiler)\n",
      "Requirement already satisfied: ipython_genutils in /Users/01024162/.pyenv/versions/anaconda3-5.1.0/lib/python3.6/site-packages (from traitlets>=4.2->IPython>=0.13->line_profiler)\n",
      "Requirement already satisfied: six in /Users/01024162/.pyenv/versions/anaconda3-5.1.0/lib/python3.6/site-packages (from traitlets>=4.2->IPython>=0.13->line_profiler)\n",
      "Requirement already satisfied: wcwidth in /Users/01024162/.pyenv/versions/anaconda3-5.1.0/lib/python3.6/site-packages (from prompt-toolkit<2.0.0,>=1.0.15->IPython>=0.13->line_profiler)\n",
      "Requirement already satisfied: ptyprocess>=0.5 in /Users/01024162/.pyenv/versions/anaconda3-5.1.0/lib/python3.6/site-packages (from pexpect; sys_platform != \"win32\"->IPython>=0.13->line_profiler)\n",
      "Requirement already satisfied: parso>=0.2.0 in /Users/01024162/.pyenv/versions/anaconda3-5.1.0/lib/python3.6/site-packages (from jedi>=0.10->IPython>=0.13->line_profiler)\n",
      "\u001b[33mYou are using pip version 10.0.1, however version 18.1 is available.\n",
      "You should consider upgrading via the 'pip install --upgrade pip' command.\u001b[0m\n"
     ]
    }
   ],
   "source": [
    "!pip install line_profiler memory_profiler"
   ]
  },
  {
   "cell_type": "code",
   "execution_count": 6,
   "metadata": {
    "ExecuteTime": {
     "end_time": "2018-10-16T03:21:10.609924Z",
     "start_time": "2018-10-16T03:21:10.605093Z"
    }
   },
   "outputs": [
    {
     "name": "stdout",
     "output_type": "stream",
     "text": [
      "The line_profiler extension is already loaded. To reload it, use:\n",
      "  %reload_ext line_profiler\n",
      "The memory_profiler extension is already loaded. To reload it, use:\n",
      "  %reload_ext memory_profiler\n"
     ]
    }
   ],
   "source": [
    "%load_ext line_profiler\n",
    "%load_ext memory_profiler"
   ]
  },
  {
   "cell_type": "code",
   "execution_count": 7,
   "metadata": {
    "ExecuteTime": {
     "end_time": "2018-10-16T03:21:22.316577Z",
     "start_time": "2018-10-16T03:21:22.313229Z"
    }
   },
   "outputs": [],
   "source": [
    "import numpy as np\n",
    "import pandas as pd"
   ]
  },
  {
   "cell_type": "code",
   "execution_count": 8,
   "metadata": {
    "ExecuteTime": {
     "end_time": "2018-10-16T03:21:32.802618Z",
     "start_time": "2018-10-16T03:21:32.788965Z"
    }
   },
   "outputs": [
    {
     "name": "stdout",
     "output_type": "stream",
     "text": [
      "Writing foo.py\n"
     ]
    }
   ],
   "source": [
    "%%writefile foo.py\n",
    "\n",
    "import numpy as np\n",
    "import pandas as pd\n",
    "from time import sleep\n",
    "\n",
    "def foo():\n",
    "    df = pd.DataFrame(np.empty((100, 200)))\n",
    "    sleep(2)\n",
    "    for _ in range(50):\n",
    "        df = df.applymap(lambda x: x+1000)\n",
    "    return df.values"
   ]
  },
  {
   "cell_type": "code",
   "execution_count": 9,
   "metadata": {
    "ExecuteTime": {
     "end_time": "2018-10-16T03:21:42.886383Z",
     "start_time": "2018-10-16T03:21:42.867344Z"
    }
   },
   "outputs": [],
   "source": [
    "from foo import foo"
   ]
  },
  {
   "cell_type": "code",
   "execution_count": 10,
   "metadata": {
    "ExecuteTime": {
     "end_time": "2018-10-16T03:21:53.274038Z",
     "start_time": "2018-10-16T03:21:47.339008Z"
    },
    "scrolled": true
   },
   "outputs": [
    {
     "name": "stdout",
     "output_type": "stream",
     "text": [
      "\n",
      "*** Profile printout saved to text file 'lprof_result'. \n"
     ]
    }
   ],
   "source": [
    "# pagerに表示\n",
    "%lprun -T lprof_result -f foo foo()"
   ]
  },
  {
   "cell_type": "code",
   "execution_count": 12,
   "metadata": {
    "ExecuteTime": {
     "end_time": "2018-10-16T03:22:04.916534Z",
     "start_time": "2018-10-16T03:22:04.908554Z"
    }
   },
   "outputs": [
    {
     "name": "stdout",
     "output_type": "stream",
     "text": [
      "Timer unit: 1e-06 s\n",
      "\n",
      "Total time: 5.92135 s\n",
      "File: /Users/01024162/Documents/github.com/lapis-zero09/jupyter_notebook_tips/profiling/foo.py\n",
      "Function: foo at line 6\n",
      "\n",
      "Line #      Hits         Time  Per Hit   % Time  Line Contents\n",
      "==============================================================\n",
      "     6                                           def foo():\n",
      "     7         1       8684.0   8684.0      0.1      df = pd.DataFrame(np.empty((100, 200)))\n",
      "     8         1    2002428.0 2002428.0     33.8      sleep(2)\n",
      "     9        51        114.0      2.2      0.0      for _ in range(50):\n",
      "    10        50    3910101.0  78202.0     66.0          df = df.applymap(lambda x: x+1000)\n",
      "    11         1         25.0     25.0      0.0      return df.values\n"
     ]
    }
   ],
   "source": [
    "print(open('lprof_result', 'r').read())"
   ]
  },
  {
   "cell_type": "code",
   "execution_count": 13,
   "metadata": {
    "ExecuteTime": {
     "end_time": "2018-10-16T03:23:55.217861Z",
     "start_time": "2018-10-16T03:22:26.771733Z"
    }
   },
   "outputs": [
    {
     "name": "stdout",
     "output_type": "stream",
     "text": [
      "\n",
      "\n",
      "*** Profile printout saved to text file mprof_result. \n"
     ]
    }
   ],
   "source": [
    "# pagerに表示\n",
    "%mprun -T mprof_result -f foo foo()"
   ]
  },
  {
   "cell_type": "code",
   "execution_count": 14,
   "metadata": {
    "ExecuteTime": {
     "end_time": "2018-10-16T03:23:55.238913Z",
     "start_time": "2018-10-16T03:23:55.230130Z"
    }
   },
   "outputs": [
    {
     "name": "stdout",
     "output_type": "stream",
     "text": [
      "Filename: /Users/01024162/Documents/github.com/lapis-zero09/jupyter_notebook_tips/profiling/foo.py\n",
      "\n",
      "Line #    Mem usage    Increment   Line Contents\n",
      "================================================\n",
      "     6     90.3 MiB     90.3 MiB   def foo():\n",
      "     7     90.3 MiB      0.0 MiB       df = pd.DataFrame(np.empty((100, 200)))\n",
      "     8     90.3 MiB      0.0 MiB       sleep(2)\n",
      "     9     90.4 MiB      0.0 MiB       for _ in range(50):\n",
      "    10     90.4 MiB      0.0 MiB           df = df.applymap(lambda x: x+1000)\n",
      "    11     90.4 MiB      0.0 MiB       return df.values\n"
     ]
    }
   ],
   "source": [
    "print(open('mprof_result', 'r').read())"
   ]
  },
  {
   "cell_type": "code",
   "execution_count": null,
   "metadata": {},
   "outputs": [],
   "source": []
  },
  {
   "cell_type": "code",
   "execution_count": null,
   "metadata": {},
   "outputs": [],
   "source": []
  },
  {
   "cell_type": "code",
   "execution_count": 15,
   "metadata": {
    "ExecuteTime": {
     "end_time": "2018-10-16T03:23:57.222588Z",
     "start_time": "2018-10-16T03:23:55.251275Z"
    }
   },
   "outputs": [
    {
     "name": "stdout",
     "output_type": "stream",
     "text": [
      "[ProfileCreate] Generating default config file: '/Users/01024162/.ipython/profile_default/ipython_kernel_config.py'\r\n"
     ]
    }
   ],
   "source": [
    "!ipython profile create"
   ]
  },
  {
   "cell_type": "code",
   "execution_count": null,
   "metadata": {},
   "outputs": [],
   "source": [
    "%%writefile -a ~/.ipython/profile_default/ipython_config.py\n",
    "\n",
    "c.InteractiveShellApp.extensions = [\n",
    "        'line_profiler',\n",
    "        'memory_profiler',\n",
    "        ]"
   ]
  }
 ],
 "metadata": {
  "kernelspec": {
   "display_name": "Python 3",
   "language": "python",
   "name": "python3"
  },
  "language_info": {
   "codemirror_mode": {
    "name": "ipython",
    "version": 3
   },
   "file_extension": ".py",
   "mimetype": "text/x-python",
   "name": "python",
   "nbconvert_exporter": "python",
   "pygments_lexer": "ipython3",
   "version": "3.6.5"
  },
  "latex_envs": {
   "LaTeX_envs_menu_present": true,
   "autoclose": false,
   "autocomplete": true,
   "bibliofile": "biblio.bib",
   "cite_by": "apalike",
   "current_citInitial": 1,
   "eqLabelWithNumbers": true,
   "eqNumInitial": 1,
   "hotkeys": {
    "equation": "Ctrl-E",
    "itemize": "Ctrl-I"
   },
   "labels_anchors": false,
   "latex_user_defs": false,
   "report_style_numbering": false,
   "user_envs_cfg": false
  },
  "toc": {
   "base_numbering": 1,
   "nav_menu": {},
   "number_sections": true,
   "sideBar": true,
   "skip_h1_title": false,
   "title_cell": "Table of Contents",
   "title_sidebar": "Contents",
   "toc_cell": false,
   "toc_position": {},
   "toc_section_display": true,
   "toc_window_display": false
  },
  "varInspector": {
   "cols": {
    "lenName": 16,
    "lenType": 16,
    "lenVar": 40
   },
   "kernels_config": {
    "python": {
     "delete_cmd_postfix": "",
     "delete_cmd_prefix": "del ",
     "library": "var_list.py",
     "varRefreshCmd": "print(var_dic_list())"
    },
    "r": {
     "delete_cmd_postfix": ") ",
     "delete_cmd_prefix": "rm(",
     "library": "var_list.r",
     "varRefreshCmd": "cat(var_dic_list()) "
    }
   },
   "types_to_exclude": [
    "module",
    "function",
    "builtin_function_or_method",
    "instance",
    "_Feature"
   ],
   "window_display": false
  }
 },
 "nbformat": 4,
 "nbformat_minor": 2
}
